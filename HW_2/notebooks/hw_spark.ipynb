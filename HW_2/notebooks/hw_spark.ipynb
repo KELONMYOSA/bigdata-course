{
 "cells": [
  {
   "cell_type": "markdown",
   "id": "6fcd0fbf-74e3-4547-bb9f-2e3b32a74cd0",
   "metadata": {},
   "source": [
    "# 1. Spark application"
   ]
  },
  {
   "cell_type": "markdown",
   "id": "31a4d519-a073-4f3e-b6d6-b1f0b49f3844",
   "metadata": {},
   "source": [
    "## Запускаем спарк-сессию (SparkSession) с мастером YARN и 2-мя экзекьюторами"
   ]
  },
  {
   "cell_type": "code",
   "execution_count": 1,
   "id": "fba861a0-2104-4e2b-9388-54a8b6e2a663",
   "metadata": {},
   "outputs": [],
   "source": [
    "from pyspark import SparkConf\n",
    "from pyspark.sql import SparkSession"
   ]
  },
  {
   "cell_type": "code",
   "execution_count": 2,
   "id": "34fcf32e-291d-428d-8758-fe48a299d408",
   "metadata": {},
   "outputs": [
    {
     "name": "stdout",
     "output_type": "stream",
     "text": [
      "Safe mode is OFF\n"
     ]
    }
   ],
   "source": [
    "!hdfs dfsadmin -safemode leave"
   ]
  },
  {
   "cell_type": "code",
   "execution_count": 3,
   "id": "b0f2866a-44d8-43db-a117-17f99ab20476",
   "metadata": {},
   "outputs": [],
   "source": [
    "conf = SparkConf().set(\"spark.executor.instances\", \"2\")"
   ]
  },
  {
   "cell_type": "code",
   "execution_count": 4,
   "id": "b0c7de4d-bb67-47de-8cb6-c6736560deac",
   "metadata": {},
   "outputs": [
    {
     "name": "stderr",
     "output_type": "stream",
     "text": [
      "Setting default log level to \"WARN\".\n",
      "To adjust logging level use sc.setLogLevel(newLevel). For SparkR, use setLogLevel(newLevel).\n",
      "23/12/12 23:08:54 WARN Client: Neither spark.yarn.jars nor spark.yarn.archive is set, falling back to uploading libraries under SPARK_HOME.\n"
     ]
    }
   ],
   "source": [
    "spark = SparkSession.builder.config(conf=conf).master(\"yarn\").appName(\"samoilenko_spark\").getOrCreate()"
   ]
  },
  {
   "cell_type": "markdown",
   "id": "c6500588-7c95-44dc-9d55-560208b201ad",
   "metadata": {},
   "source": [
    "#### YARN"
   ]
  },
  {
   "cell_type": "markdown",
   "id": "2bc0324c-a479-44c1-b4a0-311921894b30",
   "metadata": {},
   "source": [
    "![YARN](../images/YARN.png)"
   ]
  },
  {
   "cell_type": "markdown",
   "id": "886311b3-3c3e-46d9-a56a-0c241426cba6",
   "metadata": {},
   "source": [
    "#### Spark application UI"
   ]
  },
  {
   "cell_type": "markdown",
   "id": "17d12355-4c10-4148-9664-30496354bb3c",
   "metadata": {},
   "source": [
    "![Spark_UI](../images/Spark_UI.png)"
   ]
  },
  {
   "cell_type": "markdown",
   "id": "444dc790-fb4c-4770-9ff7-90eb7718f148",
   "metadata": {},
   "source": [
    "## Читаем таблицы ratings, tags и отображаем количество строчек"
   ]
  },
  {
   "cell_type": "code",
   "execution_count": 5,
   "id": "d40ce5eb-d95c-4e20-b099-02cc243c61c2",
   "metadata": {},
   "outputs": [
    {
     "name": "stdout",
     "output_type": "stream",
     "text": [
      "Deleted ml-latest-small\n"
     ]
    }
   ],
   "source": [
    "!hdfs dfs -rm -r ml-latest-small\n",
    "!hdfs dfs -put ml-latest-small ."
   ]
  },
  {
   "cell_type": "code",
   "execution_count": 6,
   "id": "d3925d07-998d-44b6-afaa-98c09c96463d",
   "metadata": {},
   "outputs": [],
   "source": [
    "from pyspark.sql.types import *"
   ]
  },
  {
   "cell_type": "code",
   "execution_count": 7,
   "id": "b53b37a8-2820-4b31-b9bf-a831469ca486",
   "metadata": {},
   "outputs": [],
   "source": [
    "ratings_schema = StructType(fields=[\n",
    "    StructField(\"userId\", IntegerType()),\n",
    "    StructField(\"movieId\", IntegerType()),\n",
    "    StructField(\"rating\", DoubleType()),\n",
    "    StructField(\"timestamp\", LongType()),\n",
    "])\n",
    "\n",
    "tags_schema = StructType(fields=[\n",
    "    StructField(\"userId\", IntegerType()),\n",
    "    StructField(\"movieId\", IntegerType()),\n",
    "    StructField(\"tag\", StringType()),\n",
    "    StructField(\"timestamp\", LongType()),\n",
    "])"
   ]
  },
  {
   "cell_type": "code",
   "execution_count": 8,
   "id": "55899978-d092-4649-a08d-dd9567335282",
   "metadata": {},
   "outputs": [],
   "source": [
    "ratings_df = spark\\\n",
    "    .read\\\n",
    "    .format(\"csv\")\\\n",
    "    .option(\"header\", \"True\")\\\n",
    "    .schema(ratings_schema)\\\n",
    "    .load(\"ml-latest-small/ratings.csv\")\n",
    "\n",
    "tags_df = spark\\\n",
    "    .read\\\n",
    "    .format(\"csv\")\\\n",
    "    .option(\"header\", \"True\")\\\n",
    "    .schema(tags_schema)\\\n",
    "    .load(\"ml-latest-small/tags.csv\")"
   ]
  },
  {
   "cell_type": "code",
   "execution_count": 9,
   "id": "4d58eed9-8803-4afc-a0b7-649972cf70a0",
   "metadata": {},
   "outputs": [],
   "source": [
    "import pyspark.sql.functions as f"
   ]
  },
  {
   "cell_type": "code",
   "execution_count": 10,
   "id": "ec0ff61a-b20c-48d5-8e05-276e3133f7f5",
   "metadata": {},
   "outputs": [],
   "source": [
    "ratings_df = ratings_df.withColumn('timestamp', f.from_unixtime(ratings_df.timestamp)).cache()\n",
    "tags_df = tags_df.withColumn('timestamp', f.from_unixtime(tags_df.timestamp)).cache()"
   ]
  },
  {
   "cell_type": "code",
   "execution_count": 11,
   "id": "b8371cc3-de84-418a-a04a-e8860931cee5",
   "metadata": {},
   "outputs": [
    {
     "name": "stderr",
     "output_type": "stream",
     "text": [
      "                                                                                \r"
     ]
    },
    {
     "name": "stdout",
     "output_type": "stream",
     "text": [
      "+------+-------+------+-------------------+\n",
      "|userId|movieId|rating|          timestamp|\n",
      "+------+-------+------+-------------------+\n",
      "|     1|      1|   4.0|2000-07-30 22:45:03|\n",
      "|     1|      3|   4.0|2000-07-30 22:20:47|\n",
      "|     1|      6|   4.0|2000-07-30 22:37:04|\n",
      "|     1|     47|   5.0|2000-07-30 23:03:35|\n",
      "|     1|     50|   5.0|2000-07-30 22:48:51|\n",
      "+------+-------+------+-------------------+\n",
      "only showing top 5 rows\n",
      "\n"
     ]
    }
   ],
   "source": [
    "ratings_df.show(5)"
   ]
  },
  {
   "cell_type": "code",
   "execution_count": 12,
   "id": "5e471372-152e-4cb9-90a0-9251bded0975",
   "metadata": {},
   "outputs": [
    {
     "name": "stdout",
     "output_type": "stream",
     "text": [
      "+------+-------+---------------+-------------------+\n",
      "|userId|movieId|            tag|          timestamp|\n",
      "+------+-------+---------------+-------------------+\n",
      "|     2|  60756|          funny|2015-10-24 22:29:54|\n",
      "|     2|  60756|Highly quotable|2015-10-24 22:29:56|\n",
      "|     2|  60756|   will ferrell|2015-10-24 22:29:52|\n",
      "|     2|  89774|   Boxing story|2015-10-24 22:33:27|\n",
      "|     2|  89774|            MMA|2015-10-24 22:33:20|\n",
      "+------+-------+---------------+-------------------+\n",
      "only showing top 5 rows\n",
      "\n"
     ]
    }
   ],
   "source": [
    "tags_df.show(5)"
   ]
  },
  {
   "cell_type": "code",
   "execution_count": 13,
   "id": "5b90ce38-e7b1-42b1-a491-e107f0374a00",
   "metadata": {},
   "outputs": [
    {
     "data": {
      "text/plain": [
       "100836"
      ]
     },
     "execution_count": 13,
     "metadata": {},
     "output_type": "execute_result"
    }
   ],
   "source": [
    "ratings_df.count()"
   ]
  },
  {
   "cell_type": "code",
   "execution_count": 14,
   "id": "9ffafc46-dbb5-47da-8645-100ef6f04a9f",
   "metadata": {},
   "outputs": [
    {
     "data": {
      "text/plain": [
       "3683"
      ]
     },
     "execution_count": 14,
     "metadata": {},
     "output_type": "execute_result"
    }
   ],
   "source": [
    "tags_df.count()"
   ]
  },
  {
   "cell_type": "markdown",
   "id": "43150c41-1370-45c8-8164-70fe6e5c28b0",
   "metadata": {},
   "source": [
    "#### Spark job"
   ]
  },
  {
   "cell_type": "markdown",
   "id": "f6c74af3-55eb-4a97-8070-729a38270296",
   "metadata": {},
   "source": [
    "Выполнено 2 стейджа и 2 таски (по 1 в каждом)"
   ]
  },
  {
   "cell_type": "markdown",
   "id": "d4a51f06-3f80-462a-9685-b8ba76264fe3",
   "metadata": {},
   "source": [
    "![Job_count](../images/Job_count.png)"
   ]
  },
  {
   "cell_type": "markdown",
   "id": "76869836-4035-493e-abad-45a3f62458d6",
   "metadata": {},
   "source": [
    "# 2. Работа с данными"
   ]
  },
  {
   "cell_type": "markdown",
   "id": "063ef0a4-13bb-459c-a796-04dfbb821ad5",
   "metadata": {},
   "source": [
    "## • Посчитать количество уникальных фильмов и уникальных юзеров в таблице “ratings”"
   ]
  },
  {
   "cell_type": "markdown",
   "id": "44f56cd8-10f5-4be6-805c-ed0151660c76",
   "metadata": {},
   "source": [
    "#### Уникальные фильмы"
   ]
  },
  {
   "cell_type": "code",
   "execution_count": 15,
   "id": "a55b18f4-a90a-4190-b401-9a1c29d6e29f",
   "metadata": {},
   "outputs": [
    {
     "data": {
      "text/plain": [
       "9724"
      ]
     },
     "execution_count": 15,
     "metadata": {},
     "output_type": "execute_result"
    }
   ],
   "source": [
    "ratings_df.select(f.countDistinct(\"movieId\")).first()[0]"
   ]
  },
  {
   "cell_type": "markdown",
   "id": "88368819-5e58-4fe2-8153-4573380bc5a5",
   "metadata": {},
   "source": [
    "#### Уникальные пользователи"
   ]
  },
  {
   "cell_type": "code",
   "execution_count": 16,
   "id": "3a8384ad-b044-4306-ad55-c15af6caa2cc",
   "metadata": {},
   "outputs": [
    {
     "name": "stderr",
     "output_type": "stream",
     "text": [
      "                                                                                \r"
     ]
    },
    {
     "data": {
      "text/plain": [
       "610"
      ]
     },
     "execution_count": 16,
     "metadata": {},
     "output_type": "execute_result"
    }
   ],
   "source": [
    "ratings_df.select(f.countDistinct(\"userId\")).first()[0]"
   ]
  },
  {
   "cell_type": "markdown",
   "id": "49c9954f-5fcb-49dd-874c-495d0d58de7d",
   "metadata": {},
   "source": [
    "## • Посчитать, сколько было поставлено оценок >= 4.0"
   ]
  },
  {
   "cell_type": "code",
   "execution_count": 17,
   "id": "aa99ec7c-80fd-43b9-9b28-131db44b7ec0",
   "metadata": {},
   "outputs": [
    {
     "data": {
      "text/plain": [
       "48580"
      ]
     },
     "execution_count": 17,
     "metadata": {},
     "output_type": "execute_result"
    }
   ],
   "source": [
    "ratings_df.filter(f.col(\"rating\") >= 4.0).count()"
   ]
  },
  {
   "cell_type": "markdown",
   "id": "fcc15994-ea89-4214-a860-3dd80aa0d5c1",
   "metadata": {},
   "source": [
    "## • Вывести топ-100 фильмов с самым высоким рейтингом"
   ]
  },
  {
   "cell_type": "code",
   "execution_count": 18,
   "id": "caaea341-3e55-494e-ae62-dc522c0c332a",
   "metadata": {},
   "outputs": [
    {
     "name": "stdout",
     "output_type": "stream",
     "text": [
      "+-------+----------+\n",
      "|movieId|avg_rating|\n",
      "+-------+----------+\n",
      "|   2196|       5.0|\n",
      "|  88448|       5.0|\n",
      "| 172909|       5.0|\n",
      "|  67618|       5.0|\n",
      "|   3496|       5.0|\n",
      "|    148|       5.0|\n",
      "| 142444|       5.0|\n",
      "|    496|       5.0|\n",
      "|   8911|       5.0|\n",
      "| 118834|       5.0|\n",
      "| 173963|       5.0|\n",
      "| 156025|       5.0|\n",
      "|   5513|       5.0|\n",
      "| 120130|       5.0|\n",
      "|  26350|       5.0|\n",
      "|   1349|       5.0|\n",
      "| 147300|       5.0|\n",
      "| 122092|       5.0|\n",
      "|    633|       5.0|\n",
      "|  71268|       5.0|\n",
      "|    876|       5.0|\n",
      "|  99636|       5.0|\n",
      "|  53578|       5.0|\n",
      "|   6086|       5.0|\n",
      "| 160644|       5.0|\n",
      "|  47736|       5.0|\n",
      "|   5490|       5.0|\n",
      "| 164367|       5.0|\n",
      "| 172583|       5.0|\n",
      "| 172589|       5.0|\n",
      "| 126921|       5.0|\n",
      "|   3473|       5.0|\n",
      "|   3795|       5.0|\n",
      "|  50999|       5.0|\n",
      "|   3941|       5.0|\n",
      "| 141718|       5.0|\n",
      "|    626|       5.0|\n",
      "|  85295|       5.0|\n",
      "|  26928|       5.0|\n",
      "| 173619|       5.0|\n",
      "|  40491|       5.0|\n",
      "|   2824|       5.0|\n",
      "| 167064|       5.0|\n",
      "|  26147|       5.0|\n",
      "|  25906|       5.0|\n",
      "|   4454|       5.0|\n",
      "| 141928|       5.0|\n",
      "| 104780|       5.0|\n",
      "|   6201|       5.0|\n",
      "|   7096|       5.0|\n",
      "|   3792|       5.0|\n",
      "| 131724|       5.0|\n",
      "| 146684|       5.0|\n",
      "|  69211|       5.0|\n",
      "| 172793|       5.0|\n",
      "| 163925|       5.0|\n",
      "| 136469|       5.0|\n",
      "| 173355|       5.0|\n",
      "| 124851|       5.0|\n",
      "|   7815|       5.0|\n",
      "|   4788|       5.0|\n",
      "| 115727|       5.0|\n",
      "|   6835|       5.0|\n",
      "| 172705|       5.0|\n",
      "| 175387|       5.0|\n",
      "| 109633|       5.0|\n",
      "|  42556|       5.0|\n",
      "| 163112|       5.0|\n",
      "| 136353|       5.0|\n",
      "|  94810|       5.0|\n",
      "|  59814|       5.0|\n",
      "|  53355|       5.0|\n",
      "| 151769|       5.0|\n",
      "|  69860|       5.0|\n",
      "| 134004|       5.0|\n",
      "|  83969|       5.0|\n",
      "|  86237|       5.0|\n",
      "| 138632|       5.0|\n",
      "|  26840|       5.0|\n",
      "|  93022|       5.0|\n",
      "|  27523|       5.0|\n",
      "| 138835|       5.0|\n",
      "| 132333|       5.0|\n",
      "| 140627|       5.0|\n",
      "| 187717|       5.0|\n",
      "|   1151|       5.0|\n",
      "| 120138|       5.0|\n",
      "|  69469|       5.0|\n",
      "|  87834|       5.0|\n",
      "| 158398|       5.0|\n",
      "| 157775|       5.0|\n",
      "| 134847|       5.0|\n",
      "| 152711|       5.0|\n",
      "| 143559|       5.0|\n",
      "|  25887|       5.0|\n",
      "|   3086|       5.0|\n",
      "|  33138|       5.0|\n",
      "|   5088|       5.0|\n",
      "| 118894|       5.0|\n",
      "|  86668|       5.0|\n",
      "+-------+----------+\n",
      "\n"
     ]
    }
   ],
   "source": [
    "ratings_df\\\n",
    "    .groupBy(\"movieId\")\\\n",
    "    .agg(f.avg(f.col(\"rating\")).alias(\"avg_rating\"))\\\n",
    "    .sort(f.desc(\"avg_rating\"))\\\n",
    "    .limit(100)\\\n",
    "    .show(100)"
   ]
  },
  {
   "cell_type": "markdown",
   "id": "faff2454-504d-4ca7-aaca-7870ab32fcb8",
   "metadata": {},
   "source": [
    "## • Посчитать разницу во времени в секундах между временем тегирования пользователя данного фильма и временем, когда пользователь поставил оценку фильму"
   ]
  },
  {
   "cell_type": "code",
   "execution_count": 19,
   "id": "68c74cd0-5ddd-4db9-b5d3-eb5e7b1def66",
   "metadata": {},
   "outputs": [],
   "source": [
    "time_diff_df = tags_df.alias(\"t\").join(ratings_df.alias(\"r\"), [\"userId\", \"movieId\"], how=\"inner\")"
   ]
  },
  {
   "cell_type": "code",
   "execution_count": 20,
   "id": "db0a7224-8038-463d-8624-f2260e5b3a67",
   "metadata": {},
   "outputs": [],
   "source": [
    "time_diff_df = time_diff_df.withColumn(\"time_diff\", f.abs(f.unix_timestamp(\"t.timestamp\") - f.unix_timestamp(\"r.timestamp\")))"
   ]
  },
  {
   "cell_type": "code",
   "execution_count": 21,
   "id": "552f80e4-645c-4746-b4ca-94508800b977",
   "metadata": {},
   "outputs": [
    {
     "name": "stdout",
     "output_type": "stream",
     "text": [
      "+------+-------+-----------------+-------------------+------+-------------------+---------+\n",
      "|userId|movieId|              tag|          timestamp|rating|          timestamp|time_diff|\n",
      "+------+-------+-----------------+-------------------+------+-------------------+---------+\n",
      "|     2|  60756|     will ferrell|2015-10-24 22:29:52|   5.0|2015-10-24 22:29:40|       12|\n",
      "|     2|  60756|  Highly quotable|2015-10-24 22:29:56|   5.0|2015-10-24 22:29:40|       16|\n",
      "|     2|  60756|            funny|2015-10-24 22:29:54|   5.0|2015-10-24 22:29:40|       14|\n",
      "|     2|  89774|        Tom Hardy|2015-10-24 22:33:25|   5.0|2015-10-24 22:33:09|       16|\n",
      "|     2|  89774|              MMA|2015-10-24 22:33:20|   5.0|2015-10-24 22:33:09|       11|\n",
      "|     2|  89774|     Boxing story|2015-10-24 22:33:27|   5.0|2015-10-24 22:33:09|       18|\n",
      "|     2| 106782|  Martin Scorsese|2015-10-24 22:30:56|   5.0|2015-10-24 22:29:26|       90|\n",
      "|     2| 106782|Leonardo DiCaprio|2015-10-24 22:30:51|   5.0|2015-10-24 22:29:26|       85|\n",
      "|     2| 106782|            drugs|2015-10-24 22:30:54|   5.0|2015-10-24 22:29:26|       88|\n",
      "|     7|  48516|     way too long|2007-01-25 04:08:45|   1.0|2007-01-25 04:08:38|        7|\n",
      "+------+-------+-----------------+-------------------+------+-------------------+---------+\n",
      "only showing top 10 rows\n",
      "\n"
     ]
    }
   ],
   "source": [
    "time_diff_df.show(10)"
   ]
  },
  {
   "cell_type": "markdown",
   "id": "6ecdcc3e-150f-4d95-91bc-92d9ccf91a18",
   "metadata": {},
   "source": [
    "#### Cредняя дельта по времени"
   ]
  },
  {
   "cell_type": "code",
   "execution_count": 22,
   "id": "ce817bcd-55ec-4e2a-8154-b4cc5bd1a7b4",
   "metadata": {},
   "outputs": [
    {
     "data": {
      "text/plain": [
       "29203715.568469506"
      ]
     },
     "execution_count": 22,
     "metadata": {},
     "output_type": "execute_result"
    }
   ],
   "source": [
    "time_diff_df\\\n",
    "    .select(f.avg(\"time_diff\"))\\\n",
    "    .first()[0]"
   ]
  },
  {
   "cell_type": "markdown",
   "id": "8c36fa83-0806-4913-8aae-6430152257f1",
   "metadata": {},
   "source": [
    "## • Посчитать среднюю оценку от каждого пользователя"
   ]
  },
  {
   "cell_type": "code",
   "execution_count": 23,
   "id": "1bcebdd3-f274-4d6a-a5be-f9db1fe86b74",
   "metadata": {},
   "outputs": [],
   "source": [
    "avg_ratings_per_user = ratings_df\\\n",
    "    .groupBy(\"userId\")\\\n",
    "    .agg(f.avg(f.col(\"rating\")).alias(\"avg_rating\"))"
   ]
  },
  {
   "cell_type": "code",
   "execution_count": 24,
   "id": "13fdcc04-e435-4012-84dd-93ebf0626a15",
   "metadata": {},
   "outputs": [
    {
     "name": "stdout",
     "output_type": "stream",
     "text": [
      "+------+------------------+\n",
      "|userId|        avg_rating|\n",
      "+------+------------------+\n",
      "|   148|3.7395833333333335|\n",
      "|   463| 3.787878787878788|\n",
      "|   471|             3.875|\n",
      "|   496| 3.413793103448276|\n",
      "|   243| 4.138888888888889|\n",
      "|   392|               3.2|\n",
      "|   540|               4.0|\n",
      "|    31|              3.92|\n",
      "|   516|3.6923076923076925|\n",
      "|    85|3.7058823529411766|\n",
      "+------+------------------+\n",
      "only showing top 10 rows\n",
      "\n"
     ]
    }
   ],
   "source": [
    "avg_ratings_per_user.show(10)"
   ]
  },
  {
   "cell_type": "markdown",
   "id": "95196f86-30d5-4390-b6a4-e7310dfc8545",
   "metadata": {},
   "source": [
    "#### Cреднее от всех усредненных оценок всех пользователей"
   ]
  },
  {
   "cell_type": "code",
   "execution_count": 25,
   "id": "11a5f21d-d9dc-4862-a622-8b56d1163564",
   "metadata": {},
   "outputs": [
    {
     "data": {
      "text/plain": [
       "3.6572223377474016"
      ]
     },
     "execution_count": 25,
     "metadata": {},
     "output_type": "execute_result"
    }
   ],
   "source": [
    "avg_ratings_per_user\\\n",
    "    .select(f.avg(\"avg_rating\"))\\\n",
    "    .first()[0]"
   ]
  },
  {
   "cell_type": "markdown",
   "id": "e2f24c3b-edfb-4d14-bee9-fcf546a56101",
   "metadata": {},
   "source": [
    "# 2. UDF"
   ]
  },
  {
   "cell_type": "markdown",
   "id": "41e9df09-736a-4478-8972-c2e07ae55eee",
   "metadata": {},
   "source": [
    "## • Обучите модель предсказания оценок по тегам с помощью TfidfVectorizer и SGDRegressor из модуля scikit-learn"
   ]
  },
  {
   "cell_type": "code",
   "execution_count": 30,
   "id": "91cdf90c-155b-4232-ac97-23dbbeb3544d",
   "metadata": {},
   "outputs": [],
   "source": [
    "ratings_and_tags_df = tags_df.alias(\"t\").join(ratings_df.alias(\"r\"), [\"userId\", \"movieId\"], how=\"inner\")"
   ]
  },
  {
   "cell_type": "code",
   "execution_count": 31,
   "id": "6cc3f6b8-557b-408c-9916-20e0e757efb1",
   "metadata": {},
   "outputs": [],
   "source": [
    "ratings_and_tags_pandas = ratings_and_tags_df.toPandas()"
   ]
  },
  {
   "cell_type": "code",
   "execution_count": 32,
   "id": "700ef32c-34d1-4d80-9dd6-6c1990c86b9c",
   "metadata": {},
   "outputs": [],
   "source": [
    "from sklearn.feature_extraction.text import TfidfVectorizer\n",
    "from sklearn.linear_model import SGDRegressor\n",
    "from sklearn.pipeline import Pipeline"
   ]
  },
  {
   "cell_type": "code",
   "execution_count": 33,
   "id": "2051c12c-0017-4abe-9e7b-ddae83459417",
   "metadata": {},
   "outputs": [],
   "source": [
    "model_pipeline = Pipeline([\n",
    "    ('tfidf', TfidfVectorizer()),\n",
    "    ('regressor', SGDRegressor())\n",
    "])"
   ]
  },
  {
   "cell_type": "code",
   "execution_count": 34,
   "id": "c41a897e-cabc-4062-87df-b4f3dac4a731",
   "metadata": {},
   "outputs": [
    {
     "data": {
      "text/html": [
       "<style>#sk-container-id-1 {color: black;}#sk-container-id-1 pre{padding: 0;}#sk-container-id-1 div.sk-toggleable {background-color: white;}#sk-container-id-1 label.sk-toggleable__label {cursor: pointer;display: block;width: 100%;margin-bottom: 0;padding: 0.3em;box-sizing: border-box;text-align: center;}#sk-container-id-1 label.sk-toggleable__label-arrow:before {content: \"▸\";float: left;margin-right: 0.25em;color: #696969;}#sk-container-id-1 label.sk-toggleable__label-arrow:hover:before {color: black;}#sk-container-id-1 div.sk-estimator:hover label.sk-toggleable__label-arrow:before {color: black;}#sk-container-id-1 div.sk-toggleable__content {max-height: 0;max-width: 0;overflow: hidden;text-align: left;background-color: #f0f8ff;}#sk-container-id-1 div.sk-toggleable__content pre {margin: 0.2em;color: black;border-radius: 0.25em;background-color: #f0f8ff;}#sk-container-id-1 input.sk-toggleable__control:checked~div.sk-toggleable__content {max-height: 200px;max-width: 100%;overflow: auto;}#sk-container-id-1 input.sk-toggleable__control:checked~label.sk-toggleable__label-arrow:before {content: \"▾\";}#sk-container-id-1 div.sk-estimator input.sk-toggleable__control:checked~label.sk-toggleable__label {background-color: #d4ebff;}#sk-container-id-1 div.sk-label input.sk-toggleable__control:checked~label.sk-toggleable__label {background-color: #d4ebff;}#sk-container-id-1 input.sk-hidden--visually {border: 0;clip: rect(1px 1px 1px 1px);clip: rect(1px, 1px, 1px, 1px);height: 1px;margin: -1px;overflow: hidden;padding: 0;position: absolute;width: 1px;}#sk-container-id-1 div.sk-estimator {font-family: monospace;background-color: #f0f8ff;border: 1px dotted black;border-radius: 0.25em;box-sizing: border-box;margin-bottom: 0.5em;}#sk-container-id-1 div.sk-estimator:hover {background-color: #d4ebff;}#sk-container-id-1 div.sk-parallel-item::after {content: \"\";width: 100%;border-bottom: 1px solid gray;flex-grow: 1;}#sk-container-id-1 div.sk-label:hover label.sk-toggleable__label {background-color: #d4ebff;}#sk-container-id-1 div.sk-serial::before {content: \"\";position: absolute;border-left: 1px solid gray;box-sizing: border-box;top: 0;bottom: 0;left: 50%;z-index: 0;}#sk-container-id-1 div.sk-serial {display: flex;flex-direction: column;align-items: center;background-color: white;padding-right: 0.2em;padding-left: 0.2em;position: relative;}#sk-container-id-1 div.sk-item {position: relative;z-index: 1;}#sk-container-id-1 div.sk-parallel {display: flex;align-items: stretch;justify-content: center;background-color: white;position: relative;}#sk-container-id-1 div.sk-item::before, #sk-container-id-1 div.sk-parallel-item::before {content: \"\";position: absolute;border-left: 1px solid gray;box-sizing: border-box;top: 0;bottom: 0;left: 50%;z-index: -1;}#sk-container-id-1 div.sk-parallel-item {display: flex;flex-direction: column;z-index: 1;position: relative;background-color: white;}#sk-container-id-1 div.sk-parallel-item:first-child::after {align-self: flex-end;width: 50%;}#sk-container-id-1 div.sk-parallel-item:last-child::after {align-self: flex-start;width: 50%;}#sk-container-id-1 div.sk-parallel-item:only-child::after {width: 0;}#sk-container-id-1 div.sk-dashed-wrapped {border: 1px dashed gray;margin: 0 0.4em 0.5em 0.4em;box-sizing: border-box;padding-bottom: 0.4em;background-color: white;}#sk-container-id-1 div.sk-label label {font-family: monospace;font-weight: bold;display: inline-block;line-height: 1.2em;}#sk-container-id-1 div.sk-label-container {text-align: center;}#sk-container-id-1 div.sk-container {/* jupyter's `normalize.less` sets `[hidden] { display: none; }` but bootstrap.min.css set `[hidden] { display: none !important; }` so we also need the `!important` here to be able to override the default hidden behavior on the sphinx rendered scikit-learn.org. See: https://github.com/scikit-learn/scikit-learn/issues/21755 */display: inline-block !important;position: relative;}#sk-container-id-1 div.sk-text-repr-fallback {display: none;}</style><div id=\"sk-container-id-1\" class=\"sk-top-container\"><div class=\"sk-text-repr-fallback\"><pre>Pipeline(steps=[(&#x27;tfidf&#x27;, TfidfVectorizer()), (&#x27;regressor&#x27;, SGDRegressor())])</pre><b>In a Jupyter environment, please rerun this cell to show the HTML representation or trust the notebook. <br />On GitHub, the HTML representation is unable to render, please try loading this page with nbviewer.org.</b></div><div class=\"sk-container\" hidden><div class=\"sk-item sk-dashed-wrapped\"><div class=\"sk-label-container\"><div class=\"sk-label sk-toggleable\"><input class=\"sk-toggleable__control sk-hidden--visually\" id=\"sk-estimator-id-1\" type=\"checkbox\" ><label for=\"sk-estimator-id-1\" class=\"sk-toggleable__label sk-toggleable__label-arrow\">Pipeline</label><div class=\"sk-toggleable__content\"><pre>Pipeline(steps=[(&#x27;tfidf&#x27;, TfidfVectorizer()), (&#x27;regressor&#x27;, SGDRegressor())])</pre></div></div></div><div class=\"sk-serial\"><div class=\"sk-item\"><div class=\"sk-estimator sk-toggleable\"><input class=\"sk-toggleable__control sk-hidden--visually\" id=\"sk-estimator-id-2\" type=\"checkbox\" ><label for=\"sk-estimator-id-2\" class=\"sk-toggleable__label sk-toggleable__label-arrow\">TfidfVectorizer</label><div class=\"sk-toggleable__content\"><pre>TfidfVectorizer()</pre></div></div></div><div class=\"sk-item\"><div class=\"sk-estimator sk-toggleable\"><input class=\"sk-toggleable__control sk-hidden--visually\" id=\"sk-estimator-id-3\" type=\"checkbox\" ><label for=\"sk-estimator-id-3\" class=\"sk-toggleable__label sk-toggleable__label-arrow\">SGDRegressor</label><div class=\"sk-toggleable__content\"><pre>SGDRegressor()</pre></div></div></div></div></div></div></div>"
      ],
      "text/plain": [
       "Pipeline(steps=[('tfidf', TfidfVectorizer()), ('regressor', SGDRegressor())])"
      ]
     },
     "execution_count": 34,
     "metadata": {},
     "output_type": "execute_result"
    }
   ],
   "source": [
    "model_pipeline.fit(ratings_and_tags_pandas['tag'], ratings_and_tags_pandas['rating'])"
   ]
  },
  {
   "cell_type": "markdown",
   "id": "b773303f-b064-46ac-a72c-6085e00aa3e9",
   "metadata": {},
   "source": [
    "## • Напишите UDF, которая делает предсказание рейтинга по столбцу “tag”"
   ]
  },
  {
   "cell_type": "code",
   "execution_count": 41,
   "id": "4fe71476-985b-4149-8874-c788ee4e147e",
   "metadata": {},
   "outputs": [],
   "source": [
    "@f.pandas_udf(FloatType())\n",
    "def predict_rating(tags):\n",
    "    def predict(tag):\n",
    "        tfidf_features = model_pipeline.named_steps['tfidf'].transform([tag])\n",
    "        predicted_rating = model_pipeline.named_steps['regressor'].predict(tfidf_features)\n",
    "        return float(predicted_rating[0])\n",
    "    return tags.apply(predict)"
   ]
  },
  {
   "cell_type": "markdown",
   "id": "62407523-1756-47c6-af8a-f8fb3b690b33",
   "metadata": {},
   "source": [
    "## • Примените UDF к spar-dataframe-у и убедитесь, что udf работает"
   ]
  },
  {
   "cell_type": "code",
   "execution_count": 44,
   "id": "efbfef1d-b7b4-4a66-b417-2eed26296e4b",
   "metadata": {},
   "outputs": [
    {
     "name": "stdout",
     "output_type": "stream",
     "text": [
      "+------+-------+--------------------+-------------------+------+-------------------+----------------+\n",
      "|userId|movieId|                 tag|          timestamp|rating|          timestamp|predicted_rating|\n",
      "+------+-------+--------------------+-------------------+------+-------------------+----------------+\n",
      "|     2|  60756|        will ferrell|2015-10-24 22:29:52|   5.0|2015-10-24 22:29:40|       4.0309253|\n",
      "|     2|  60756|     Highly quotable|2015-10-24 22:29:56|   5.0|2015-10-24 22:29:40|       3.9473102|\n",
      "|     2|  60756|               funny|2015-10-24 22:29:54|   5.0|2015-10-24 22:29:40|        4.364071|\n",
      "|     2|  89774|           Tom Hardy|2015-10-24 22:33:25|   5.0|2015-10-24 22:33:09|       3.8341713|\n",
      "|     2|  89774|                 MMA|2015-10-24 22:33:20|   5.0|2015-10-24 22:33:09|        3.422266|\n",
      "|     2|  89774|        Boxing story|2015-10-24 22:33:27|   5.0|2015-10-24 22:33:09|       3.9278622|\n",
      "|     2| 106782|     Martin Scorsese|2015-10-24 22:30:56|   5.0|2015-10-24 22:29:26|       3.8484201|\n",
      "|     2| 106782|   Leonardo DiCaprio|2015-10-24 22:30:51|   5.0|2015-10-24 22:29:26|        4.240413|\n",
      "|     2| 106782|               drugs|2015-10-24 22:30:54|   5.0|2015-10-24 22:29:26|       4.2855344|\n",
      "|     7|  48516|        way too long|2007-01-25 04:08:45|   1.0|2007-01-25 04:08:38|       3.4291155|\n",
      "|    18|    431|               mafia|2016-05-02 00:39:15|   4.0|2016-05-02 00:39:50|       4.1691184|\n",
      "|    18|    431|            gangster|2016-05-02 00:39:09|   4.0|2016-05-02 00:39:50|        3.623344|\n",
      "|    18|    431|           Al Pacino|2016-05-02 00:39:25|   4.0|2016-05-02 00:39:50|       3.8628411|\n",
      "|    18|   1221|               Mafia|2016-04-26 22:35:03|   5.0|2016-04-10 01:48:03|       4.1691184|\n",
      "|    18|   1221|           Al Pacino|2016-04-26 22:35:06|   5.0|2016-04-10 01:48:03|       3.8628411|\n",
      "|    18|   5995|          true story|2016-02-17 21:57:59|   4.5|2016-02-17 21:56:56|       3.8524601|\n",
      "|    18|   5995|           holocaust|2016-02-17 21:57:52|   4.5|2016-02-17 21:56:56|       3.9784255|\n",
      "|    18|  44665|        twist ending|2016-03-02 22:51:23|   4.5|2016-02-09 23:31:10|        4.837811|\n",
      "|    18|  52604|        twist ending|2016-03-11 01:58:02|   4.5|2016-03-11 01:57:29|        4.837811|\n",
      "|    18|  52604|     courtroom drama|2016-03-11 01:58:31|   4.5|2016-03-11 01:57:29|       3.8407986|\n",
      "|    18|  52604|     Anthony Hopkins|2016-03-11 01:58:16|   4.5|2016-03-11 01:57:29|       3.3851755|\n",
      "|    18|  88094|               music|2016-03-08 16:43:29|   3.0|2016-03-07 15:08:02|        4.291697|\n",
      "|    18|  88094|  indie record label|2016-03-08 16:43:12|   3.0|2016-03-07 15:08:02|         3.27036|\n",
      "|    18|  88094|             britpop|2016-03-08 16:41:40|   3.0|2016-03-07 15:08:02|         3.27074|\n",
      "|    18| 144210|      Sustainability|2016-02-10 02:27:32|   4.0|2016-02-10 02:24:42|       3.3464165|\n",
      "|    18| 144210|     dumpster diving|2016-02-10 02:26:21|   4.0|2016-02-10 02:24:42|       3.3462439|\n",
      "|    21| 119141|              bloody|2014-12-28 22:12:42|   0.5|2014-12-28 22:12:19|       3.5288787|\n",
      "|    49| 109487|         time-travel|2017-04-25 07:09:16|   4.5|2017-04-25 07:07:11|         4.22977|\n",
      "|    49| 109487|              sci-fi|2017-04-25 07:08:52|   4.5|2017-04-25 07:07:11|        4.297502|\n",
      "|    49| 109487|          black hole|2017-04-25 07:08:26|   4.5|2017-04-25 07:07:11|       3.8626108|\n",
      "|    62|      2|      Robin Williams|2018-06-13 01:51:47|   4.0|2018-06-13 01:51:30|        3.700817|\n",
      "|    62|      2|    magic board game|2018-06-13 01:52:12|   4.0|2018-06-13 01:51:30|       3.7473965|\n",
      "|    62|      2|             fantasy|2018-06-13 01:52:09|   4.0|2018-06-13 01:51:30|       3.9382045|\n",
      "|    62|    110|         sword fight|2018-06-05 01:48:55|   4.5|2018-03-23 19:25:03|       3.3823965|\n",
      "|    62|    110|             revenge|2018-06-05 01:48:51|   4.5|2018-03-23 19:25:03|       4.1807446|\n",
      "|    62|    110|Oscar (Best Cinem...|2018-06-05 01:48:59|   4.5|2018-03-23 19:25:03|       4.3393083|\n",
      "|    62|    110|          mel gibson|2018-06-05 01:48:41|   4.5|2018-03-23 19:25:03|       3.4223862|\n",
      "|    62|    110|            Medieval|2018-06-05 01:48:48|   4.5|2018-03-23 19:25:03|       3.3848193|\n",
      "|    62|    110|       inspirational|2018-06-05 01:48:47|   4.5|2018-03-23 19:25:03|       3.8059187|\n",
      "|    62|    110|          historical|2018-06-05 01:48:43|   4.5|2018-03-23 19:25:03|       3.3859336|\n",
      "|    62|    110|                epic|2018-06-05 01:48:52|   4.5|2018-03-23 19:25:03|       3.9747775|\n",
      "|    62|    110|   beautiful scenery|2018-06-05 01:49:01|   4.5|2018-03-23 19:25:03|        4.001048|\n",
      "|    62|    410|              gothic|2018-05-06 22:56:49|   4.5|2018-05-06 22:56:41|       3.8568857|\n",
      "|    62|    410|              family|2018-05-06 22:58:28|   4.5|2018-05-06 22:56:41|        4.119374|\n",
      "|    62|    410|         dark comedy|2018-05-06 22:56:50|   4.5|2018-05-06 22:56:41|       4.8925376|\n",
      "|    62|    410|   Christopher Lloyd|2018-05-06 22:57:02|   4.5|2018-05-06 22:56:41|        3.748349|\n",
      "|    62|    410|     Christina Ricci|2018-05-06 22:58:05|   4.5|2018-05-06 22:56:41|       3.5696156|\n",
      "|    62|    410|        black comedy|2018-05-06 22:56:47|   4.5|2018-05-06 22:56:41|        4.646843|\n",
      "|    62|   2023|               mafia|2018-05-06 22:58:53|   5.0|2018-05-06 22:58:45|       4.1691184|\n",
      "|    62|   2023|Francis Ford Coppola|2018-05-06 22:59:12|   5.0|2018-05-06 22:58:45|        3.539337|\n",
      "+------+-------+--------------------+-------------------+------+-------------------+----------------+\n",
      "only showing top 50 rows\n",
      "\n"
     ]
    }
   ],
   "source": [
    "predicted_ratings_df = ratings_and_tags_df.withColumn('predicted_rating', predict_rating(f.col('tag')))\n",
    "predicted_ratings_df.show(50)"
   ]
  },
  {
   "cell_type": "markdown",
   "id": "a39793ad-07f6-4b30-9e19-c29174a175a5",
   "metadata": {},
   "source": [
    "#### Spark job"
   ]
  },
  {
   "cell_type": "markdown",
   "id": "7c51a9dc-5262-41ca-899b-197cd145d4d0",
   "metadata": {},
   "source": [
    "![Job_predict](../images/Job_predict.png)"
   ]
  },
  {
   "cell_type": "markdown",
   "id": "70700285-b211-482b-ac41-12e7f7d1bfea",
   "metadata": {},
   "source": [
    "## • Напишите, чему равен корень суммы квадратов разностей (RMSE) между предсказанным и истинным значением рейтинга"
   ]
  },
  {
   "cell_type": "code",
   "execution_count": 45,
   "id": "f461b096-5f3d-491d-9d57-cc8d5666a5d2",
   "metadata": {},
   "outputs": [],
   "source": [
    "eval_df = predicted_ratings_df.select(\"rating\", \"predicted_rating\")"
   ]
  },
  {
   "cell_type": "code",
   "execution_count": 46,
   "id": "728f1093-87f4-4982-b870-032f53e21993",
   "metadata": {},
   "outputs": [],
   "source": [
    "from pyspark.ml.evaluation import RegressionEvaluator"
   ]
  },
  {
   "cell_type": "code",
   "execution_count": 50,
   "id": "de9fd9d7-5c32-4bd4-98d2-48b91dc9a452",
   "metadata": {},
   "outputs": [
    {
     "name": "stderr",
     "output_type": "stream",
     "text": [
      "                                                                                \r"
     ]
    }
   ],
   "source": [
    "evaluator = RegressionEvaluator(labelCol=\"rating\", predictionCol=\"predicted_rating\", metricName=\"rmse\")\n",
    "rmse = evaluator.evaluate(eval_df)"
   ]
  },
  {
   "cell_type": "code",
   "execution_count": 51,
   "id": "8f994147-8a63-48e9-9766-5b778d10a897",
   "metadata": {},
   "outputs": [
    {
     "data": {
      "text/plain": [
       "'RMSE: 0.8734328966510683'"
      ]
     },
     "execution_count": 51,
     "metadata": {},
     "output_type": "execute_result"
    }
   ],
   "source": [
    "f\"RMSE: {rmse}\""
   ]
  },
  {
   "cell_type": "markdown",
   "id": "53417317-65b9-4ab4-a095-001d1755f369",
   "metadata": {},
   "source": [
    "#### Spark job"
   ]
  },
  {
   "cell_type": "markdown",
   "id": "4910414a-d890-4284-9397-139b25206576",
   "metadata": {},
   "source": [
    "Выполнен 1 стейдж и 1 таска"
   ]
  },
  {
   "cell_type": "markdown",
   "id": "f45a87f2-5517-4e22-9b88-855f1a4bab61",
   "metadata": {},
   "source": [
    "![Job_rmse](../images/Job_rmse.png)"
   ]
  }
 ],
 "metadata": {
  "kernelspec": {
   "display_name": "Python 3 (ipykernel)",
   "language": "python",
   "name": "python3"
  },
  "language_info": {
   "codemirror_mode": {
    "name": "ipython",
    "version": 3
   },
   "file_extension": ".py",
   "mimetype": "text/x-python",
   "name": "python",
   "nbconvert_exporter": "python",
   "pygments_lexer": "ipython3",
   "version": "3.10.12"
  }
 },
 "nbformat": 4,
 "nbformat_minor": 5
}
