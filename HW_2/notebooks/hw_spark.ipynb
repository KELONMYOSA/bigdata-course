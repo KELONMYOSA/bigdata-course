{
 "cells": [
  {
   "cell_type": "markdown",
   "id": "6fcd0fbf-74e3-4547-bb9f-2e3b32a74cd0",
   "metadata": {},
   "source": [
    "# 1. Spark application"
   ]
  },
  {
   "cell_type": "markdown",
   "id": "31a4d519-a073-4f3e-b6d6-b1f0b49f3844",
   "metadata": {},
   "source": [
    "## Запускаем спарк-сессию (SparkSession) с мастером YARN и 2-мя экзекьюторами"
   ]
  },
  {
   "cell_type": "code",
   "execution_count": 5,
   "id": "fba861a0-2104-4e2b-9388-54a8b6e2a663",
   "metadata": {},
   "outputs": [],
   "source": [
    "from pyspark import SparkConf\n",
    "from pyspark.sql import SparkSession"
   ]
  },
  {
   "cell_type": "code",
   "execution_count": 2,
   "id": "34fcf32e-291d-428d-8758-fe48a299d408",
   "metadata": {},
   "outputs": [
    {
     "name": "stdout",
     "output_type": "stream",
     "text": [
      "Safe mode is OFF\n"
     ]
    }
   ],
   "source": [
    "!hdfs dfsadmin -safemode leave"
   ]
  },
  {
   "cell_type": "code",
   "execution_count": 6,
   "id": "b0f2866a-44d8-43db-a117-17f99ab20476",
   "metadata": {},
   "outputs": [],
   "source": [
    "conf = SparkConf().set(\"spark.executor.instances\", \"2\")"
   ]
  },
  {
   "cell_type": "code",
   "execution_count": 7,
   "id": "b0c7de4d-bb67-47de-8cb6-c6736560deac",
   "metadata": {},
   "outputs": [
    {
     "name": "stderr",
     "output_type": "stream",
     "text": [
      "Setting default log level to \"WARN\".\n",
      "To adjust logging level use sc.setLogLevel(newLevel). For SparkR, use setLogLevel(newLevel).\n",
      "23/12/07 15:08:39 WARN Client: Neither spark.yarn.jars nor spark.yarn.archive is set, falling back to uploading libraries under SPARK_HOME.\n"
     ]
    }
   ],
   "source": [
    "spark = SparkSession.builder.config(conf=conf).master(\"yarn\").appName(\"samoilenko_spark\").getOrCreate()"
   ]
  },
  {
   "cell_type": "markdown",
   "id": "c6500588-7c95-44dc-9d55-560208b201ad",
   "metadata": {},
   "source": [
    "#### YARN"
   ]
  },
  {
   "cell_type": "markdown",
   "id": "2bc0324c-a479-44c1-b4a0-311921894b30",
   "metadata": {},
   "source": [
    "![YARN](../images/YARN.png)"
   ]
  },
  {
   "cell_type": "markdown",
   "id": "886311b3-3c3e-46d9-a56a-0c241426cba6",
   "metadata": {},
   "source": [
    "#### Spark application UI"
   ]
  },
  {
   "cell_type": "markdown",
   "id": "17d12355-4c10-4148-9664-30496354bb3c",
   "metadata": {},
   "source": [
    "![Spark_UI](../images/Spark_UI.png)"
   ]
  },
  {
   "cell_type": "markdown",
   "id": "444dc790-fb4c-4770-9ff7-90eb7718f148",
   "metadata": {},
   "source": [
    "## Читаем таблицы ratings, tags и отображаем количество строчек"
   ]
  },
  {
   "cell_type": "code",
   "execution_count": 9,
   "id": "d40ce5eb-d95c-4e20-b099-02cc243c61c2",
   "metadata": {},
   "outputs": [
    {
     "name": "stdout",
     "output_type": "stream",
     "text": [
      "rm: `ml-latest-small': No such file or directory\n"
     ]
    }
   ],
   "source": [
    "!hdfs dfs -rm -r ml-latest-small\n",
    "!hdfs dfs -put ml-latest-small ."
   ]
  },
  {
   "cell_type": "code",
   "execution_count": 10,
   "id": "d3925d07-998d-44b6-afaa-98c09c96463d",
   "metadata": {},
   "outputs": [],
   "source": [
    "from pyspark.sql.types import *"
   ]
  },
  {
   "cell_type": "code",
   "execution_count": 148,
   "id": "b53b37a8-2820-4b31-b9bf-a831469ca486",
   "metadata": {},
   "outputs": [],
   "source": [
    "ratings_schema = StructType(fields=[\n",
    "    StructField(\"userId\", IntegerType()),\n",
    "    StructField(\"movieId\", IntegerType()),\n",
    "    StructField(\"rating\", DoubleType()),\n",
    "    StructField(\"timestamp\", LongType()),\n",
    "])\n",
    "\n",
    "tags_schema = StructType(fields=[\n",
    "    StructField(\"userId\", IntegerType()),\n",
    "    StructField(\"movieId\", IntegerType()),\n",
    "    StructField(\"tag\", StringType()),\n",
    "    StructField(\"timestamp\", LongType()),\n",
    "])"
   ]
  },
  {
   "cell_type": "code",
   "execution_count": 149,
   "id": "55899978-d092-4649-a08d-dd9567335282",
   "metadata": {},
   "outputs": [],
   "source": [
    "ratings_df = spark\\\n",
    "    .read\\\n",
    "    .format(\"csv\")\\\n",
    "    .option(\"header\", \"True\")\\\n",
    "    .schema(ratings_schema)\\\n",
    "    .load(\"ml-latest-small/ratings.csv\")\n",
    "\n",
    "tags_df = spark\\\n",
    "    .read\\\n",
    "    .format(\"csv\")\\\n",
    "    .option(\"header\", \"True\")\\\n",
    "    .schema(tags_schema)\\\n",
    "    .load(\"ml-latest-small/tags.csv\")"
   ]
  },
  {
   "cell_type": "code",
   "execution_count": 27,
   "id": "4d58eed9-8803-4afc-a0b7-649972cf70a0",
   "metadata": {},
   "outputs": [],
   "source": [
    "import pyspark.sql.functions as f"
   ]
  },
  {
   "cell_type": "code",
   "execution_count": 150,
   "id": "ec0ff61a-b20c-48d5-8e05-276e3133f7f5",
   "metadata": {},
   "outputs": [],
   "source": [
    "ratings_df = ratings_df.withColumn('timestamp', f.from_unixtime(ratings_df.timestamp))\n",
    "tags_df = tags_df.withColumn('timestamp', f.from_unixtime(tags_df.timestamp))"
   ]
  },
  {
   "cell_type": "code",
   "execution_count": 24,
   "id": "b8371cc3-de84-418a-a04a-e8860931cee5",
   "metadata": {},
   "outputs": [
    {
     "name": "stdout",
     "output_type": "stream",
     "text": [
      "+------+-------+------+-------------------+\n",
      "|userId|movieId|rating|          timestamp|\n",
      "+------+-------+------+-------------------+\n",
      "|     1|      1|   4.0|2000-07-30 22:45:03|\n",
      "|     1|      3|   4.0|2000-07-30 22:20:47|\n",
      "|     1|      6|   4.0|2000-07-30 22:37:04|\n",
      "|     1|     47|   5.0|2000-07-30 23:03:35|\n",
      "|     1|     50|   5.0|2000-07-30 22:48:51|\n",
      "+------+-------+------+-------------------+\n"
     ]
    }
   ],
   "source": [
    "ratings_df.show(5)"
   ]
  },
  {
   "cell_type": "code",
   "execution_count": 16,
   "id": "5e471372-152e-4cb9-90a0-9251bded0975",
   "metadata": {},
   "outputs": [
    {
     "name": "stderr",
     "output_type": "stream",
     "text": [
      "[Stage 1:>                                                          (0 + 1) / 1]\r"
     ]
    },
    {
     "name": "stdout",
     "output_type": "stream",
     "text": [
      "+------+-------+---------------+-------------------+\n",
      "|userId|movieId|            tag|          timestamp|\n",
      "+------+-------+---------------+-------------------+\n",
      "|     2|  60756|          funny|2015-10-24 22:29:54|\n",
      "|     2|  60756|Highly quotable|2015-10-24 22:29:56|\n",
      "|     2|  60756|   will ferrell|2015-10-24 22:29:52|\n",
      "|     2|  89774|   Boxing story|2015-10-24 22:33:27|\n",
      "|     2|  89774|            MMA|2015-10-24 22:33:20|\n",
      "+------+-------+---------------+-------------------+\n"
     ]
    },
    {
     "name": "stderr",
     "output_type": "stream",
     "text": [
      "                                                                                \r"
     ]
    }
   ],
   "source": [
    "tags_df.show(5)"
   ]
  },
  {
   "cell_type": "code",
   "execution_count": 28,
   "id": "5b90ce38-e7b1-42b1-a491-e107f0374a00",
   "metadata": {},
   "outputs": [
    {
     "data": {
      "text/plain": [
       "100836"
      ]
     },
     "execution_count": 28,
     "metadata": {},
     "output_type": "execute_result"
    }
   ],
   "source": [
    "ratings_df.count()"
   ]
  },
  {
   "cell_type": "code",
   "execution_count": 21,
   "id": "9ffafc46-dbb5-47da-8645-100ef6f04a9f",
   "metadata": {},
   "outputs": [
    {
     "data": {
      "text/plain": [
       "3683"
      ]
     },
     "execution_count": 21,
     "metadata": {},
     "output_type": "execute_result"
    }
   ],
   "source": [
    "tags_df.count()"
   ]
  },
  {
   "cell_type": "markdown",
   "id": "43150c41-1370-45c8-8164-70fe6e5c28b0",
   "metadata": {},
   "source": [
    "#### Spark job"
   ]
  },
  {
   "cell_type": "markdown",
   "id": "f6c74af3-55eb-4a97-8070-729a38270296",
   "metadata": {},
   "source": [
    "Выполнено 2 стейджа и 2 таски (по 1 в каждом)"
   ]
  },
  {
   "cell_type": "markdown",
   "id": "d4a51f06-3f80-462a-9685-b8ba76264fe3",
   "metadata": {},
   "source": [
    "![Job_count](../images/Job_count.png)"
   ]
  },
  {
   "cell_type": "markdown",
   "id": "76869836-4035-493e-abad-45a3f62458d6",
   "metadata": {},
   "source": [
    "# 2. Работа с данными"
   ]
  },
  {
   "cell_type": "markdown",
   "id": "063ef0a4-13bb-459c-a796-04dfbb821ad5",
   "metadata": {},
   "source": [
    "## • Посчитать количество уникальных фильмов и уникальных юзеров в таблице “ratings”"
   ]
  },
  {
   "cell_type": "markdown",
   "id": "44f56cd8-10f5-4be6-805c-ed0151660c76",
   "metadata": {},
   "source": [
    "#### Уникальные фильмы"
   ]
  },
  {
   "cell_type": "code",
   "execution_count": 64,
   "id": "a55b18f4-a90a-4190-b401-9a1c29d6e29f",
   "metadata": {},
   "outputs": [
    {
     "data": {
      "text/plain": [
       "9724"
      ]
     },
     "execution_count": 64,
     "metadata": {},
     "output_type": "execute_result"
    }
   ],
   "source": [
    "ratings_df.select(f.countDistinct(\"movieId\")).first()[0]"
   ]
  },
  {
   "cell_type": "markdown",
   "id": "88368819-5e58-4fe2-8153-4573380bc5a5",
   "metadata": {},
   "source": [
    "#### Уникальные пользователи"
   ]
  },
  {
   "cell_type": "code",
   "execution_count": 65,
   "id": "3a8384ad-b044-4306-ad55-c15af6caa2cc",
   "metadata": {},
   "outputs": [
    {
     "data": {
      "text/plain": [
       "610"
      ]
     },
     "execution_count": 65,
     "metadata": {},
     "output_type": "execute_result"
    }
   ],
   "source": [
    "ratings_df.select(f.countDistinct(\"userId\")).first()[0]"
   ]
  },
  {
   "cell_type": "markdown",
   "id": "49c9954f-5fcb-49dd-874c-495d0d58de7d",
   "metadata": {},
   "source": [
    "## • Посчитать, сколько было поставлено оценок >= 4.0"
   ]
  },
  {
   "cell_type": "code",
   "execution_count": 70,
   "id": "aa99ec7c-80fd-43b9-9b28-131db44b7ec0",
   "metadata": {},
   "outputs": [
    {
     "data": {
      "text/plain": [
       "48580"
      ]
     },
     "execution_count": 70,
     "metadata": {},
     "output_type": "execute_result"
    }
   ],
   "source": [
    "ratings_df.filter(f.col(\"rating\") >= 4.0).count()"
   ]
  },
  {
   "cell_type": "markdown",
   "id": "fcc15994-ea89-4214-a860-3dd80aa0d5c1",
   "metadata": {},
   "source": [
    "## • Вывести топ-100 фильмов с самым высоким рейтингом"
   ]
  },
  {
   "cell_type": "code",
   "execution_count": 81,
   "id": "caaea341-3e55-494e-ae62-dc522c0c332a",
   "metadata": {},
   "outputs": [
    {
     "name": "stdout",
     "output_type": "stream",
     "text": [
      "+-------+----------+\n",
      "|movieId|avg_rating|\n",
      "+-------+----------+\n",
      "|   2196|       5.0|\n",
      "|  88448|       5.0|\n",
      "| 172909|       5.0|\n",
      "|  67618|       5.0|\n",
      "|   3496|       5.0|\n",
      "|    148|       5.0|\n",
      "| 142444|       5.0|\n",
      "|    496|       5.0|\n",
      "|   8911|       5.0|\n",
      "| 118834|       5.0|\n",
      "| 173963|       5.0|\n",
      "| 156025|       5.0|\n",
      "|   5513|       5.0|\n",
      "| 120130|       5.0|\n",
      "|  26350|       5.0|\n",
      "|   1349|       5.0|\n",
      "| 147300|       5.0|\n",
      "| 122092|       5.0|\n",
      "|    633|       5.0|\n",
      "|  71268|       5.0|\n",
      "|    876|       5.0|\n",
      "|  99636|       5.0|\n",
      "|  53578|       5.0|\n",
      "|   6086|       5.0|\n",
      "| 160644|       5.0|\n",
      "|  47736|       5.0|\n",
      "|   5490|       5.0|\n",
      "| 164367|       5.0|\n",
      "| 172583|       5.0|\n",
      "| 172589|       5.0|\n",
      "| 126921|       5.0|\n",
      "|   3473|       5.0|\n",
      "|   3795|       5.0|\n",
      "|  50999|       5.0|\n",
      "|   3941|       5.0|\n",
      "| 141718|       5.0|\n",
      "|    626|       5.0|\n",
      "|  85295|       5.0|\n",
      "|  26928|       5.0|\n",
      "| 173619|       5.0|\n",
      "|  40491|       5.0|\n",
      "|   2824|       5.0|\n",
      "| 167064|       5.0|\n",
      "|  26147|       5.0|\n",
      "|  25906|       5.0|\n",
      "|   4454|       5.0|\n",
      "| 141928|       5.0|\n",
      "| 104780|       5.0|\n",
      "|   6201|       5.0|\n",
      "|   7096|       5.0|\n",
      "|   3792|       5.0|\n",
      "| 131724|       5.0|\n",
      "| 146684|       5.0|\n",
      "|  69211|       5.0|\n",
      "| 172793|       5.0|\n",
      "| 163925|       5.0|\n",
      "| 136469|       5.0|\n",
      "| 173355|       5.0|\n",
      "| 124851|       5.0|\n",
      "|   7815|       5.0|\n",
      "|   4788|       5.0|\n",
      "| 115727|       5.0|\n",
      "|   6835|       5.0|\n",
      "| 172705|       5.0|\n",
      "| 175387|       5.0|\n",
      "| 109633|       5.0|\n",
      "|  42556|       5.0|\n",
      "| 163112|       5.0|\n",
      "| 136353|       5.0|\n",
      "|  94810|       5.0|\n",
      "|  59814|       5.0|\n",
      "|  53355|       5.0|\n",
      "| 151769|       5.0|\n",
      "|  69860|       5.0|\n",
      "| 134004|       5.0|\n",
      "|  83969|       5.0|\n",
      "|  86237|       5.0|\n",
      "| 138632|       5.0|\n",
      "|  26840|       5.0|\n",
      "|  93022|       5.0|\n",
      "|  27523|       5.0|\n",
      "| 138835|       5.0|\n",
      "| 132333|       5.0|\n",
      "| 140627|       5.0|\n",
      "| 187717|       5.0|\n",
      "|   1151|       5.0|\n",
      "| 120138|       5.0|\n",
      "|  69469|       5.0|\n",
      "|  87834|       5.0|\n",
      "| 158398|       5.0|\n",
      "| 157775|       5.0|\n",
      "| 134847|       5.0|\n",
      "| 152711|       5.0|\n",
      "| 143559|       5.0|\n",
      "|  25887|       5.0|\n",
      "|   3086|       5.0|\n",
      "|  33138|       5.0|\n",
      "|   5088|       5.0|\n",
      "| 118894|       5.0|\n",
      "|  86668|       5.0|\n",
      "+-------+----------+\n"
     ]
    }
   ],
   "source": [
    "ratings_df\\\n",
    "    .groupBy(\"movieId\")\\\n",
    "    .agg(f.avg(f.col(\"rating\")).alias(\"avg_rating\"))\\\n",
    "    .sort(f.desc(\"avg_rating\"))\\\n",
    "    .limit(100)\\\n",
    "    .show(100)"
   ]
  },
  {
   "cell_type": "markdown",
   "id": "faff2454-504d-4ca7-aaca-7870ab32fcb8",
   "metadata": {},
   "source": [
    "## • Посчитать разницу во времени в секундах между временем тегирования пользователя данного фильма и временем, когда пользователь поставил оценку фильму"
   ]
  },
  {
   "cell_type": "code",
   "execution_count": 156,
   "id": "68c74cd0-5ddd-4db9-b5d3-eb5e7b1def66",
   "metadata": {},
   "outputs": [],
   "source": [
    "time_diff_df = tags_df.alias(\"t\").join(ratings_df.alias(\"r\"), [\"userId\", \"movieId\"], how=\"inner\")"
   ]
  },
  {
   "cell_type": "code",
   "execution_count": 165,
   "id": "db0a7224-8038-463d-8624-f2260e5b3a67",
   "metadata": {},
   "outputs": [],
   "source": [
    "time_diff_df = time_diff_df.withColumn(\"time_diff\", f.abs(f.unix_timestamp(\"t.timestamp\") - f.unix_timestamp(\"r.timestamp\")))"
   ]
  },
  {
   "cell_type": "code",
   "execution_count": 168,
   "id": "552f80e4-645c-4746-b4ca-94508800b977",
   "metadata": {},
   "outputs": [
    {
     "name": "stdout",
     "output_type": "stream",
     "text": [
      "+------+-------+-----------------+-------------------+------+-------------------+---------+\n",
      "|userId|movieId|              tag|          timestamp|rating|          timestamp|time_diff|\n",
      "+------+-------+-----------------+-------------------+------+-------------------+---------+\n",
      "|     2|  60756|     will ferrell|2015-10-24 22:29:52|   5.0|2015-10-24 22:29:40|       12|\n",
      "|     2|  60756|  Highly quotable|2015-10-24 22:29:56|   5.0|2015-10-24 22:29:40|       16|\n",
      "|     2|  60756|            funny|2015-10-24 22:29:54|   5.0|2015-10-24 22:29:40|       14|\n",
      "|     2|  89774|        Tom Hardy|2015-10-24 22:33:25|   5.0|2015-10-24 22:33:09|       16|\n",
      "|     2|  89774|              MMA|2015-10-24 22:33:20|   5.0|2015-10-24 22:33:09|       11|\n",
      "|     2|  89774|     Boxing story|2015-10-24 22:33:27|   5.0|2015-10-24 22:33:09|       18|\n",
      "|     2| 106782|  Martin Scorsese|2015-10-24 22:30:56|   5.0|2015-10-24 22:29:26|       90|\n",
      "|     2| 106782|Leonardo DiCaprio|2015-10-24 22:30:51|   5.0|2015-10-24 22:29:26|       85|\n",
      "|     2| 106782|            drugs|2015-10-24 22:30:54|   5.0|2015-10-24 22:29:26|       88|\n",
      "|     7|  48516|     way too long|2007-01-25 04:08:45|   1.0|2007-01-25 04:08:38|        7|\n",
      "+------+-------+-----------------+-------------------+------+-------------------+---------+\n"
     ]
    }
   ],
   "source": [
    "time_diff_df.show(10)"
   ]
  },
  {
   "cell_type": "markdown",
   "id": "6ecdcc3e-150f-4d95-91bc-92d9ccf91a18",
   "metadata": {},
   "source": [
    "#### Cредняя дельта по времени"
   ]
  },
  {
   "cell_type": "code",
   "execution_count": 169,
   "id": "ce817bcd-55ec-4e2a-8154-b4cc5bd1a7b4",
   "metadata": {},
   "outputs": [
    {
     "data": {
      "text/plain": [
       "29203715.568469506"
      ]
     },
     "execution_count": 169,
     "metadata": {},
     "output_type": "execute_result"
    }
   ],
   "source": [
    "time_diff_df\\\n",
    "    .select(f.avg(\"time_diff\"))\\\n",
    "    .first()[0]"
   ]
  },
  {
   "cell_type": "markdown",
   "id": "8c36fa83-0806-4913-8aae-6430152257f1",
   "metadata": {},
   "source": [
    "## • Посчитать среднюю оценку от каждого пользователя"
   ]
  },
  {
   "cell_type": "code",
   "execution_count": 170,
   "id": "1bcebdd3-f274-4d6a-a5be-f9db1fe86b74",
   "metadata": {},
   "outputs": [],
   "source": [
    "avg_ratings_per_user = ratings_df\\\n",
    "    .groupBy(\"userId\")\\\n",
    "    .agg(f.avg(f.col(\"rating\")).alias(\"avg_rating\"))"
   ]
  },
  {
   "cell_type": "code",
   "execution_count": 171,
   "id": "13fdcc04-e435-4012-84dd-93ebf0626a15",
   "metadata": {},
   "outputs": [
    {
     "name": "stdout",
     "output_type": "stream",
     "text": [
      "+------+------------------+\n",
      "|userId|        avg_rating|\n",
      "+------+------------------+\n",
      "|   148|3.7395833333333335|\n",
      "|   463| 3.787878787878788|\n",
      "|   471|             3.875|\n",
      "|   496| 3.413793103448276|\n",
      "|   243| 4.138888888888889|\n",
      "|   392|               3.2|\n",
      "|   540|               4.0|\n",
      "|    31|              3.92|\n",
      "|   516|3.6923076923076925|\n",
      "|    85|3.7058823529411766|\n",
      "+------+------------------+\n"
     ]
    }
   ],
   "source": [
    "avg_ratings_per_user.show(10)"
   ]
  },
  {
   "cell_type": "markdown",
   "id": "95196f86-30d5-4390-b6a4-e7310dfc8545",
   "metadata": {},
   "source": [
    "#### Cреднее от всех усредненных оценок всех пользователей"
   ]
  },
  {
   "cell_type": "code",
   "execution_count": 172,
   "id": "11a5f21d-d9dc-4862-a622-8b56d1163564",
   "metadata": {},
   "outputs": [
    {
     "data": {
      "text/plain": [
       "3.6572223377474016"
      ]
     },
     "execution_count": 172,
     "metadata": {},
     "output_type": "execute_result"
    }
   ],
   "source": [
    "avg_ratings_per_user\\\n",
    "    .select(f.avg(\"avg_rating\"))\\\n",
    "    .first()[0]"
   ]
  }
 ],
 "metadata": {
  "kernelspec": {
   "display_name": "Python 3 (ipykernel)",
   "language": "python",
   "name": "python3"
  },
  "language_info": {
   "codemirror_mode": {
    "name": "ipython",
    "version": 3
   },
   "file_extension": ".py",
   "mimetype": "text/x-python",
   "name": "python",
   "nbconvert_exporter": "python",
   "pygments_lexer": "ipython3",
   "version": "3.10.12"
  }
 },
 "nbformat": 4,
 "nbformat_minor": 5
}
